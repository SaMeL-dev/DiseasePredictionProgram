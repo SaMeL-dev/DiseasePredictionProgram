{
 "cells": [
  {
   "cell_type": "markdown",
   "id": "062cac42",
   "metadata": {},
   "source": [
    "# 실험용 Jupyter 노트북 파일"
   ]
  }
 ],
 "metadata": {
  "language_info": {
   "name": "python"
  }
 },
 "nbformat": 4,
 "nbformat_minor": 5
}
