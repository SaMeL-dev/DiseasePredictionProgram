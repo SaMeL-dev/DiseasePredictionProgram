{
 "cells": [
  {
   "cell_type": "markdown",
   "id": "062cac42",
   "metadata": {},
   "source": [
    "# 당뇨 예측 모델 실험용 Jupyter 파일"
   ]
  },
  {
   "cell_type": "code",
   "execution_count": 13,
   "id": "268e4552",
   "metadata": {},
   "outputs": [],
   "source": [
    "import sys\n",
    "import os\n",
    "sys.path.append(os.path.abspath(\"..\"))\n",
    "\n",
    "os.chdir(\"..\")  # notebooks → 루트로 이동\n",
    "from src.diabetes.predict import predict_diabetes"
   ]
  },
  {
   "cell_type": "code",
   "execution_count": 14,
   "id": "e485cc6e",
   "metadata": {},
   "outputs": [
    {
     "name": "stdout",
     "output_type": "stream",
     "text": [
      "📂 현재 작업 디렉토리: d:\\CodingFolder\\Diabete_Model\n",
      "✅ 현재 디렉토리: d:\\CodingFolder\\Diabete_Model\n",
      "✅ 모델 경로: d:\\CodingFolder\\Diabete_Model\\src\\diabetes\\diabetes_model.pkl\n",
      "✅ 파일 존재함? True\n"
     ]
    }
   ],
   "source": [
    "import os\n",
    "print(\"📂 현재 작업 디렉토리:\", os.getcwd())\n",
    "\n",
    "print(\"✅ 현재 디렉토리:\", os.getcwd())\n",
    "print(\"✅ 모델 경로:\", os.path.abspath(\"src/diabetes/diabetes_model.pkl\"))\n",
    "print(\"✅ 파일 존재함?\", os.path.exists(os.path.abspath(\"src/diabetes/diabetes_model.pkl\")))"
   ]
  },
  {
   "cell_type": "code",
   "execution_count": 15,
   "id": "f520306c",
   "metadata": {},
   "outputs": [
    {
     "name": "stdout",
     "output_type": "stream",
     "text": [
      "예측된 당뇨병 확률: 4.00%\n"
     ]
    }
   ],
   "source": [
    "from src.diabetes.predict import predict_diabetes\n",
    "\n",
    "sample = {\n",
    "    'gender': 1,\n",
    "    'age': 50,\n",
    "    'hypertension': 0,\n",
    "    'heart_disease': 0,\n",
    "    'smoking_history': 1,\n",
    "    'bmi': 26.4,\n",
    "    'HbA1c_level': 6.0,\n",
    "    'blood_glucose_level': 155\n",
    "}\n",
    "\n",
    "result = predict_diabetes(sample)\n",
    "print(f\"예측된 당뇨병 확률: {result:.2%}\")"
   ]
  },
  {
   "cell_type": "code",
   "execution_count": null,
   "id": "7bfcf043",
   "metadata": {},
   "outputs": [],
   "source": []
  }
 ],
 "metadata": {
  "kernelspec": {
   "display_name": "Python 3",
   "language": "python",
   "name": "python3"
  },
  "language_info": {
   "codemirror_mode": {
    "name": "ipython",
    "version": 3
   },
   "file_extension": ".py",
   "mimetype": "text/x-python",
   "name": "python",
   "nbconvert_exporter": "python",
   "pygments_lexer": "ipython3",
   "version": "3.13.0"
  }
 },
 "nbformat": 4,
 "nbformat_minor": 5
}
