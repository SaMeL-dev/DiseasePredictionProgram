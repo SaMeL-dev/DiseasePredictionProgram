{
 "cells": [
  {
   "cell_type": "markdown",
   "id": "062cac42",
   "metadata": {},
   "source": [
    "# 당뇨 예측 모델 실험용 Jupyter 파일"
   ]
  }
 ],
 "metadata": {
  "language_info": {
   "name": "python"
  }
 },
 "nbformat": 4,
 "nbformat_minor": 5
}
